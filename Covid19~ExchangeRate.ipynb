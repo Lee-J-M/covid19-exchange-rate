{
 "cells": [
  {
   "cell_type": "code",
   "execution_count": 1,
   "metadata": {},
   "outputs": [
    {
     "data": {
      "text/html": [
       "<div>\n",
       "<style scoped>\n",
       "    .dataframe tbody tr th:only-of-type {\n",
       "        vertical-align: middle;\n",
       "    }\n",
       "\n",
       "    .dataframe tbody tr th {\n",
       "        vertical-align: top;\n",
       "    }\n",
       "\n",
       "    .dataframe thead th {\n",
       "        text-align: right;\n",
       "    }\n",
       "</style>\n",
       "<table border=\"1\" class=\"dataframe\">\n",
       "  <thead>\n",
       "    <tr style=\"text-align: right;\">\n",
       "      <th></th>\n",
       "      <th>2020-02-01</th>\n",
       "      <th>2020-02-02</th>\n",
       "      <th>2020-02-03</th>\n",
       "      <th>2020-02-04</th>\n",
       "      <th>2020-02-05</th>\n",
       "      <th>2020-02-06</th>\n",
       "      <th>2020-02-07</th>\n",
       "      <th>2020-02-08</th>\n",
       "      <th>2020-02-09</th>\n",
       "      <th>2020-02-10</th>\n",
       "      <th>...</th>\n",
       "      <th>2020-08-15</th>\n",
       "      <th>2020-08-16</th>\n",
       "      <th>2020-08-17</th>\n",
       "      <th>2020-08-18</th>\n",
       "      <th>2020-08-19</th>\n",
       "      <th>2020-08-20</th>\n",
       "      <th>2020-08-21</th>\n",
       "      <th>2020-08-22</th>\n",
       "      <th>2020-08-23</th>\n",
       "      <th>2020-08-24</th>\n",
       "    </tr>\n",
       "  </thead>\n",
       "  <tbody>\n",
       "    <tr>\n",
       "      <th>0</th>\n",
       "      <td>NaN</td>\n",
       "      <td>NaN</td>\n",
       "      <td>1,187.80</td>\n",
       "      <td>1,196.00</td>\n",
       "      <td>1,189.40</td>\n",
       "      <td>1,188.50</td>\n",
       "      <td>1,181.40</td>\n",
       "      <td>NaN</td>\n",
       "      <td>NaN</td>\n",
       "      <td>1,187.20</td>\n",
       "      <td>...</td>\n",
       "      <td>NaN</td>\n",
       "      <td>NaN</td>\n",
       "      <td>NaN</td>\n",
       "      <td>1,185.80</td>\n",
       "      <td>1,185.10</td>\n",
       "      <td>1,182.30</td>\n",
       "      <td>1,186.30</td>\n",
       "      <td>NaN</td>\n",
       "      <td>NaN</td>\n",
       "      <td>1,185.30</td>\n",
       "    </tr>\n",
       "  </tbody>\n",
       "</table>\n",
       "<p>1 rows × 206 columns</p>\n",
       "</div>"
      ],
      "text/plain": [
       "   2020-02-01  2020-02-02 2020-02-03 2020-02-04 2020-02-05 2020-02-06  \\\n",
       "0         NaN         NaN   1,187.80   1,196.00   1,189.40   1,188.50   \n",
       "\n",
       "  2020-02-07  2020-02-08  2020-02-09 2020-02-10  ... 2020-08-15 2020-08-16  \\\n",
       "0   1,181.40         NaN         NaN   1,187.20  ...        NaN        NaN   \n",
       "\n",
       "  2020-08-17 2020-08-18  2020-08-19  2020-08-20 2020-08-21 2020-08-22  \\\n",
       "0        NaN   1,185.80    1,185.10    1,182.30   1,186.30        NaN   \n",
       "\n",
       "  2020-08-23 2020-08-24  \n",
       "0        NaN   1,185.30  \n",
       "\n",
       "[1 rows x 206 columns]"
      ]
     },
     "execution_count": 1,
     "metadata": {},
     "output_type": "execute_result"
    }
   ],
   "source": [
    "import pandas as pd\n",
    "import numpy as np\n",
    "from numpy import NaN,NAN,nan\n",
    "\n",
    "#데이터 출처:ECOS 한국은행 경제통계시스템\n",
    "#원/달러 환율은 서울외국환시장 은행간거래의 종가(오후 3시 30분 마감)\n",
    "\n",
    "df_exchange=pd.read_csv(\"환율데이터.csv\")\n",
    "df_exchange.head() #1행 206열의 넓은 데이터이므로 melt 필요"
   ]
  },
  {
   "cell_type": "code",
   "execution_count": 2,
   "metadata": {},
   "outputs": [
    {
     "data": {
      "text/html": [
       "<div>\n",
       "<style scoped>\n",
       "    .dataframe tbody tr th:only-of-type {\n",
       "        vertical-align: middle;\n",
       "    }\n",
       "\n",
       "    .dataframe tbody tr th {\n",
       "        vertical-align: top;\n",
       "    }\n",
       "\n",
       "    .dataframe thead th {\n",
       "        text-align: right;\n",
       "    }\n",
       "</style>\n",
       "<table border=\"1\" class=\"dataframe\">\n",
       "  <thead>\n",
       "    <tr style=\"text-align: right;\">\n",
       "      <th></th>\n",
       "      <th>날짜</th>\n",
       "      <th>value</th>\n",
       "    </tr>\n",
       "  </thead>\n",
       "  <tbody>\n",
       "    <tr>\n",
       "      <th>0</th>\n",
       "      <td>2020-02-02</td>\n",
       "      <td>NaN</td>\n",
       "    </tr>\n",
       "    <tr>\n",
       "      <th>1</th>\n",
       "      <td>2020-02-03</td>\n",
       "      <td>1,187.80</td>\n",
       "    </tr>\n",
       "    <tr>\n",
       "      <th>2</th>\n",
       "      <td>2020-02-04</td>\n",
       "      <td>1,196.00</td>\n",
       "    </tr>\n",
       "    <tr>\n",
       "      <th>3</th>\n",
       "      <td>2020-02-05</td>\n",
       "      <td>1,189.40</td>\n",
       "    </tr>\n",
       "    <tr>\n",
       "      <th>4</th>\n",
       "      <td>2020-02-06</td>\n",
       "      <td>1,188.50</td>\n",
       "    </tr>\n",
       "    <tr>\n",
       "      <th>...</th>\n",
       "      <td>...</td>\n",
       "      <td>...</td>\n",
       "    </tr>\n",
       "    <tr>\n",
       "      <th>200</th>\n",
       "      <td>2020-08-20</td>\n",
       "      <td>1,182.30</td>\n",
       "    </tr>\n",
       "    <tr>\n",
       "      <th>201</th>\n",
       "      <td>2020-08-21</td>\n",
       "      <td>1,186.30</td>\n",
       "    </tr>\n",
       "    <tr>\n",
       "      <th>202</th>\n",
       "      <td>2020-08-22</td>\n",
       "      <td>NaN</td>\n",
       "    </tr>\n",
       "    <tr>\n",
       "      <th>203</th>\n",
       "      <td>2020-08-23</td>\n",
       "      <td>NaN</td>\n",
       "    </tr>\n",
       "    <tr>\n",
       "      <th>204</th>\n",
       "      <td>2020-08-24</td>\n",
       "      <td>1,185.30</td>\n",
       "    </tr>\n",
       "  </tbody>\n",
       "</table>\n",
       "<p>205 rows × 2 columns</p>\n",
       "</div>"
      ],
      "text/plain": [
       "             날짜     value\n",
       "0    2020-02-02       NaN\n",
       "1    2020-02-03  1,187.80\n",
       "2    2020-02-04  1,196.00\n",
       "3    2020-02-05  1,189.40\n",
       "4    2020-02-06  1,188.50\n",
       "..          ...       ...\n",
       "200  2020-08-20  1,182.30\n",
       "201  2020-08-21  1,186.30\n",
       "202  2020-08-22       NaN\n",
       "203  2020-08-23       NaN\n",
       "204  2020-08-24  1,185.30\n",
       "\n",
       "[205 rows x 2 columns]"
      ]
     },
     "execution_count": 2,
     "metadata": {},
     "output_type": "execute_result"
    }
   ],
   "source": [
    "#데이터 melt\n",
    "#기준이 될 열이 존재하지 않으므로 분석 대상이 아닌 2020-02-01을 기준으로 melt시킨 뒤 삭제\n",
    "df_exchange=df_exchange.melt(id_vars='2020-02-01',var_name=\"날짜\")\n",
    "del df_exchange[\"2020-02-01\"] \n",
    "df_exchange"
   ]
  },
  {
   "cell_type": "code",
   "execution_count": 3,
   "metadata": {},
   "outputs": [],
   "source": [
    "#변수명 변경\n",
    "df_exchange=df_exchange.rename(columns={\"날짜\":\"date\",\"value\":\"rate\"})\n",
    "#df_exchange.info()"
   ]
  },
  {
   "cell_type": "code",
   "execution_count": 4,
   "metadata": {},
   "outputs": [
    {
     "data": {
      "text/html": [
       "<div>\n",
       "<style scoped>\n",
       "    .dataframe tbody tr th:only-of-type {\n",
       "        vertical-align: middle;\n",
       "    }\n",
       "\n",
       "    .dataframe tbody tr th {\n",
       "        vertical-align: top;\n",
       "    }\n",
       "\n",
       "    .dataframe thead th {\n",
       "        text-align: right;\n",
       "    }\n",
       "</style>\n",
       "<table border=\"1\" class=\"dataframe\">\n",
       "  <thead>\n",
       "    <tr style=\"text-align: right;\">\n",
       "      <th></th>\n",
       "      <th>date</th>\n",
       "      <th>rate</th>\n",
       "    </tr>\n",
       "  </thead>\n",
       "  <tbody>\n",
       "    <tr>\n",
       "      <th>0</th>\n",
       "      <td>2020-02-02</td>\n",
       "      <td>NaN</td>\n",
       "    </tr>\n",
       "    <tr>\n",
       "      <th>1</th>\n",
       "      <td>2020-02-03</td>\n",
       "      <td>1187.80</td>\n",
       "    </tr>\n",
       "    <tr>\n",
       "      <th>2</th>\n",
       "      <td>2020-02-04</td>\n",
       "      <td>1196.00</td>\n",
       "    </tr>\n",
       "    <tr>\n",
       "      <th>3</th>\n",
       "      <td>2020-02-05</td>\n",
       "      <td>1189.40</td>\n",
       "    </tr>\n",
       "    <tr>\n",
       "      <th>4</th>\n",
       "      <td>2020-02-06</td>\n",
       "      <td>1188.50</td>\n",
       "    </tr>\n",
       "    <tr>\n",
       "      <th>...</th>\n",
       "      <td>...</td>\n",
       "      <td>...</td>\n",
       "    </tr>\n",
       "    <tr>\n",
       "      <th>200</th>\n",
       "      <td>2020-08-20</td>\n",
       "      <td>1182.30</td>\n",
       "    </tr>\n",
       "    <tr>\n",
       "      <th>201</th>\n",
       "      <td>2020-08-21</td>\n",
       "      <td>1186.30</td>\n",
       "    </tr>\n",
       "    <tr>\n",
       "      <th>202</th>\n",
       "      <td>2020-08-22</td>\n",
       "      <td>NaN</td>\n",
       "    </tr>\n",
       "    <tr>\n",
       "      <th>203</th>\n",
       "      <td>2020-08-23</td>\n",
       "      <td>NaN</td>\n",
       "    </tr>\n",
       "    <tr>\n",
       "      <th>204</th>\n",
       "      <td>2020-08-24</td>\n",
       "      <td>1185.30</td>\n",
       "    </tr>\n",
       "  </tbody>\n",
       "</table>\n",
       "<p>205 rows × 2 columns</p>\n",
       "</div>"
      ],
      "text/plain": [
       "           date     rate\n",
       "0    2020-02-02      NaN\n",
       "1    2020-02-03  1187.80\n",
       "2    2020-02-04  1196.00\n",
       "3    2020-02-05  1189.40\n",
       "4    2020-02-06  1188.50\n",
       "..          ...      ...\n",
       "200  2020-08-20  1182.30\n",
       "201  2020-08-21  1186.30\n",
       "202  2020-08-22      NaN\n",
       "203  2020-08-23      NaN\n",
       "204  2020-08-24  1185.30\n",
       "\n",
       "[205 rows x 2 columns]"
      ]
     },
     "execution_count": 4,
     "metadata": {},
     "output_type": "execute_result"
    }
   ],
   "source": [
    "#천단위 구분 기호 제거(실수형으로 바꾸기 위해)\n",
    "#천단위 구분 기호 때문에 실수형으로 변경이 되지 않음.\n",
    "a = df_exchange[\"rate\"].str.replace(\",\",\"\")\n",
    "df_exchange[\"rate\"]=a\n",
    "df_exchange"
   ]
  },
  {
   "cell_type": "code",
   "execution_count": 5,
   "metadata": {},
   "outputs": [
    {
     "name": "stdout",
     "output_type": "stream",
     "text": [
      "<class 'pandas.core.frame.DataFrame'>\n",
      "RangeIndex: 205 entries, 0 to 204\n",
      "Data columns (total 2 columns):\n",
      " #   Column  Non-Null Count  Dtype  \n",
      "---  ------  --------------  -----  \n",
      " 0   date    205 non-null    object \n",
      " 1   rate    141 non-null    float64\n",
      "dtypes: float64(1), object(1)\n",
      "memory usage: 3.3+ KB\n",
      "<class 'pandas.core.frame.DataFrame'>\n",
      "RangeIndex: 205 entries, 0 to 204\n",
      "Data columns (total 2 columns):\n",
      " #   Column  Non-Null Count  Dtype         \n",
      "---  ------  --------------  -----         \n",
      " 0   date    205 non-null    datetime64[ns]\n",
      " 1   rate    141 non-null    float64       \n",
      "dtypes: datetime64[ns](1), float64(1)\n",
      "memory usage: 3.3 KB\n"
     ]
    }
   ],
   "source": [
    "#float으로 변환\n",
    "df_exchange[\"rate\"]=df_exchange[\"rate\"].astype(\"float\") \n",
    "df_exchange.info()\n",
    "\n",
    "#datetime으로 변환\n",
    "df_exchange[\"date\"]=df_exchange[\"date\"].astype(\"datetime64\") \n",
    "df_exchange.info()"
   ]
  },
  {
   "cell_type": "code",
   "execution_count": 6,
   "metadata": {},
   "outputs": [],
   "source": [
    "#rate열에 64개의 결측치 존재(주말 및 공휴일)\n",
    "np.count_nonzero(df_exchange.isnull()) \n",
    "\n",
    "#결측치 제거\n",
    "df_exchange.dropna(inplace=True) #205-64=141개 행만 남음.\n",
    "df_exchange    \n",
    "\n",
    "#csv파일로 저장\n",
    "df_exchange.to_csv('exchange_rate_dropna.csv', index=False)"
   ]
  },
  {
   "cell_type": "code",
   "execution_count": 7,
   "metadata": {},
   "outputs": [
    {
     "data": {
      "text/html": [
       "<div>\n",
       "<style scoped>\n",
       "    .dataframe tbody tr th:only-of-type {\n",
       "        vertical-align: middle;\n",
       "    }\n",
       "\n",
       "    .dataframe tbody tr th {\n",
       "        vertical-align: top;\n",
       "    }\n",
       "\n",
       "    .dataframe thead th {\n",
       "        text-align: right;\n",
       "    }\n",
       "</style>\n",
       "<table border=\"1\" class=\"dataframe\">\n",
       "  <thead>\n",
       "    <tr style=\"text-align: right;\">\n",
       "      <th></th>\n",
       "      <th>date</th>\n",
       "      <th>rate</th>\n",
       "    </tr>\n",
       "  </thead>\n",
       "  <tbody>\n",
       "    <tr>\n",
       "      <th>0</th>\n",
       "      <td>2020-02-07</td>\n",
       "      <td>1181.4</td>\n",
       "    </tr>\n",
       "    <tr>\n",
       "      <th>1</th>\n",
       "      <td>2020-02-10</td>\n",
       "      <td>1187.2</td>\n",
       "    </tr>\n",
       "    <tr>\n",
       "      <th>2</th>\n",
       "      <td>2020-02-11</td>\n",
       "      <td>1189.8</td>\n",
       "    </tr>\n",
       "    <tr>\n",
       "      <th>3</th>\n",
       "      <td>2020-02-12</td>\n",
       "      <td>1184.1</td>\n",
       "    </tr>\n",
       "    <tr>\n",
       "      <th>4</th>\n",
       "      <td>2020-02-13</td>\n",
       "      <td>1179.8</td>\n",
       "    </tr>\n",
       "    <tr>\n",
       "      <th>...</th>\n",
       "      <td>...</td>\n",
       "      <td>...</td>\n",
       "    </tr>\n",
       "    <tr>\n",
       "      <th>132</th>\n",
       "      <td>2020-08-18</td>\n",
       "      <td>1185.8</td>\n",
       "    </tr>\n",
       "    <tr>\n",
       "      <th>133</th>\n",
       "      <td>2020-08-19</td>\n",
       "      <td>1185.1</td>\n",
       "    </tr>\n",
       "    <tr>\n",
       "      <th>134</th>\n",
       "      <td>2020-08-20</td>\n",
       "      <td>1182.3</td>\n",
       "    </tr>\n",
       "    <tr>\n",
       "      <th>135</th>\n",
       "      <td>2020-08-21</td>\n",
       "      <td>1186.3</td>\n",
       "    </tr>\n",
       "    <tr>\n",
       "      <th>136</th>\n",
       "      <td>2020-08-24</td>\n",
       "      <td>1185.3</td>\n",
       "    </tr>\n",
       "  </tbody>\n",
       "</table>\n",
       "<p>137 rows × 2 columns</p>\n",
       "</div>"
      ],
      "text/plain": [
       "          date    rate\n",
       "0   2020-02-07  1181.4\n",
       "1   2020-02-10  1187.2\n",
       "2   2020-02-11  1189.8\n",
       "3   2020-02-12  1184.1\n",
       "4   2020-02-13  1179.8\n",
       "..         ...     ...\n",
       "132 2020-08-18  1185.8\n",
       "133 2020-08-19  1185.1\n",
       "134 2020-08-20  1182.3\n",
       "135 2020-08-21  1186.3\n",
       "136 2020-08-24  1185.3\n",
       "\n",
       "[137 rows x 2 columns]"
      ]
     },
     "execution_count": 7,
     "metadata": {},
     "output_type": "execute_result"
    }
   ],
   "source": [
    "#2월 7일부터 시작하도록 데이터프레임 저장\n",
    "#인덱스를 0부터 다시 부여\n",
    "df_exchange=df_exchange.loc[5:,]\n",
    "df_exchange.reset_index(drop=True) #137개 행"
   ]
  },
  {
   "cell_type": "code",
   "execution_count": 8,
   "metadata": {},
   "outputs": [
    {
     "name": "stdout",
     "output_type": "stream",
     "text": [
      "<class 'pandas.core.frame.DataFrame'>\n",
      "RangeIndex: 200 entries, 0 to 199\n",
      "Data columns (total 2 columns):\n",
      " #   Column     Non-Null Count  Dtype         \n",
      "---  ------     --------------  -----         \n",
      " 0   Date       200 non-null    datetime64[ns]\n",
      " 1   Confirmed  200 non-null    int64         \n",
      "dtypes: datetime64[ns](1), int64(1)\n",
      "memory usage: 3.2 KB\n"
     ]
    },
    {
     "data": {
      "text/html": [
       "<div>\n",
       "<style scoped>\n",
       "    .dataframe tbody tr th:only-of-type {\n",
       "        vertical-align: middle;\n",
       "    }\n",
       "\n",
       "    .dataframe tbody tr th {\n",
       "        vertical-align: top;\n",
       "    }\n",
       "\n",
       "    .dataframe thead th {\n",
       "        text-align: right;\n",
       "    }\n",
       "</style>\n",
       "<table border=\"1\" class=\"dataframe\">\n",
       "  <thead>\n",
       "    <tr style=\"text-align: right;\">\n",
       "      <th></th>\n",
       "      <th>Date</th>\n",
       "      <th>Confirmed</th>\n",
       "      <th>year</th>\n",
       "      <th>month</th>\n",
       "      <th>day</th>\n",
       "      <th>dayofweek</th>\n",
       "    </tr>\n",
       "  </thead>\n",
       "  <tbody>\n",
       "    <tr>\n",
       "      <th>2</th>\n",
       "      <td>2020-02-09</td>\n",
       "      <td>0</td>\n",
       "      <td>2020</td>\n",
       "      <td>2</td>\n",
       "      <td>9</td>\n",
       "      <td>6</td>\n",
       "    </tr>\n",
       "    <tr>\n",
       "      <th>3</th>\n",
       "      <td>2020-02-10</td>\n",
       "      <td>1</td>\n",
       "      <td>2020</td>\n",
       "      <td>2</td>\n",
       "      <td>10</td>\n",
       "      <td>0</td>\n",
       "    </tr>\n",
       "    <tr>\n",
       "      <th>4</th>\n",
       "      <td>2020-02-11</td>\n",
       "      <td>0</td>\n",
       "      <td>2020</td>\n",
       "      <td>2</td>\n",
       "      <td>11</td>\n",
       "      <td>1</td>\n",
       "    </tr>\n",
       "    <tr>\n",
       "      <th>5</th>\n",
       "      <td>2020-02-12</td>\n",
       "      <td>0</td>\n",
       "      <td>2020</td>\n",
       "      <td>2</td>\n",
       "      <td>12</td>\n",
       "      <td>2</td>\n",
       "    </tr>\n",
       "    <tr>\n",
       "      <th>6</th>\n",
       "      <td>2020-02-13</td>\n",
       "      <td>0</td>\n",
       "      <td>2020</td>\n",
       "      <td>2</td>\n",
       "      <td>13</td>\n",
       "      <td>3</td>\n",
       "    </tr>\n",
       "    <tr>\n",
       "      <th>...</th>\n",
       "      <td>...</td>\n",
       "      <td>...</td>\n",
       "      <td>...</td>\n",
       "      <td>...</td>\n",
       "      <td>...</td>\n",
       "      <td>...</td>\n",
       "    </tr>\n",
       "    <tr>\n",
       "      <th>193</th>\n",
       "      <td>2020-08-18</td>\n",
       "      <td>297</td>\n",
       "      <td>2020</td>\n",
       "      <td>8</td>\n",
       "      <td>18</td>\n",
       "      <td>1</td>\n",
       "    </tr>\n",
       "    <tr>\n",
       "      <th>194</th>\n",
       "      <td>2020-08-19</td>\n",
       "      <td>288</td>\n",
       "      <td>2020</td>\n",
       "      <td>8</td>\n",
       "      <td>19</td>\n",
       "      <td>2</td>\n",
       "    </tr>\n",
       "    <tr>\n",
       "      <th>195</th>\n",
       "      <td>2020-08-20</td>\n",
       "      <td>324</td>\n",
       "      <td>2020</td>\n",
       "      <td>8</td>\n",
       "      <td>20</td>\n",
       "      <td>3</td>\n",
       "    </tr>\n",
       "    <tr>\n",
       "      <th>198</th>\n",
       "      <td>2020-08-23</td>\n",
       "      <td>266</td>\n",
       "      <td>2020</td>\n",
       "      <td>8</td>\n",
       "      <td>23</td>\n",
       "      <td>6</td>\n",
       "    </tr>\n",
       "    <tr>\n",
       "      <th>199</th>\n",
       "      <td>2020-08-24</td>\n",
       "      <td>280</td>\n",
       "      <td>2020</td>\n",
       "      <td>8</td>\n",
       "      <td>24</td>\n",
       "      <td>0</td>\n",
       "    </tr>\n",
       "  </tbody>\n",
       "</table>\n",
       "<p>138 rows × 6 columns</p>\n",
       "</div>"
      ],
      "text/plain": [
       "          Date  Confirmed  year  month  day  dayofweek\n",
       "2   2020-02-09          0  2020      2    9          6\n",
       "3   2020-02-10          1  2020      2   10          0\n",
       "4   2020-02-11          0  2020      2   11          1\n",
       "5   2020-02-12          0  2020      2   12          2\n",
       "6   2020-02-13          0  2020      2   13          3\n",
       "..         ...        ...   ...    ...  ...        ...\n",
       "193 2020-08-18        297  2020      8   18          1\n",
       "194 2020-08-19        288  2020      8   19          2\n",
       "195 2020-08-20        324  2020      8   20          3\n",
       "198 2020-08-23        266  2020      8   23          6\n",
       "199 2020-08-24        280  2020      8   24          0\n",
       "\n",
       "[138 rows x 6 columns]"
      ]
     },
     "execution_count": 8,
     "metadata": {},
     "output_type": "execute_result"
    }
   ],
   "source": [
    "#코로나 데이터에서 금요일,토요일만 삭제!\n",
    "\n",
    "df_covid=pd.read_csv(\"wuhan_daily_diff.csv\")\n",
    "#df_covid.head()\n",
    "#df_covid.info() #date가 문자형-->날짜형으로 변환 필요\n",
    "#df_covid.shape #200행,2열\n",
    "\n",
    "b=df_covid[\"Date\"].astype(\"datetime64\") #날짜형으로 변환\n",
    "df_covid[\"Date\"]=b\n",
    "\n",
    "df_covid.info()\n",
    "\n",
    "import time\n",
    "import calendar\n",
    "\n",
    "#년,월,일 추출하여 새로운 열 생성\n",
    "df_covid[\"year\"]=df_covid[\"Date\"].dt.year\n",
    "df_covid[\"month\"]=df_covid[\"Date\"].dt.month\n",
    "df_covid[\"day\"]=df_covid[\"Date\"].dt.day\n",
    "\n",
    "from datetime import datetime\n",
    "\n",
    "a=set(df_covid_weekday[\"Date\"]) #공휴일이 지워지지 않음.\n",
    "b=set(df_exchange[\"date\"]) \n",
    "len(a) #142개\n",
    "len(b) #137개\n",
    "142-137=5개 행 더 제거 필요!\n",
    "\n",
    "\n",
    "#a와 b의 차집합 확인\n",
    "diff=a.difference(b)\n",
    "diff\n",
    "\n",
    "#5개 출력\n",
    "#2020-04-15 #총선\n",
    "#2020-04-30 #부처님오신날\n",
    "#2020-05-01 #근로자의날\n",
    "#2020-05-05 #어린이날\n",
    "#2020-08-17 #대체공휴일\n",
    "\n",
    "\n",
    "#요일을 반환하는 함수 생성\n",
    "\n",
    "def f(x):    \n",
    "    return calendar.weekday(x.year,x.month,x.day)\n",
    "\n",
    "df_covid[\"dayofweek\"]=df_covid.Date.apply(f)\n",
    "df_covid.head()\n",
    "\n",
    "#dayofweek가 4,5인 데이터 삭제(금,토)\n",
    "df_covid_nonsaturday=df_covid[(df_covid[\"dayofweek\"]!=4)&(df_covid[\"dayofweek\"]!=5)]\n",
    "df_covid_nonsaturday.shape #142행 6열\n",
    "df_covid_nonsaturday.dayofweek.nunique() #5개(0,1,2,3,,6)--->4,5가 사라진 것을 알 수 있음\n",
    "\n",
    "\n",
    "\n",
    "#holiday에 포함안되는 행은 True,포함되면 False\n",
    "holiday=[\"2020-04-15\",\"2020-04-30\",\"2020-05-01\",\"2020-05-05\",\"2020-08-17\"]\n",
    "\n",
    "\n",
    "#holiday여부 판단하는 함수 생성\n",
    "\n",
    "def f(x):\n",
    "    x = datetime.strftime(x, '%Y-%m-%d')\n",
    "    if x in holiday:\n",
    "        return False\n",
    "    else:\n",
    "        return True\n",
    "    \n",
    "df_covid_nonsaturday = df_covid_nonsaturday[df_covid_nonsaturday.Date.apply(f)]\n",
    "df_covid_nonsaturday #4개 빠짐(공휴일 중에 하루가 금요일이라 4개만 빠짐.)\n",
    "\n",
    "#df_covid_nonsaturday.isnull()\n",
    "#df_covid_nonsaturday.info()\n"
   ]
  },
  {
   "cell_type": "code",
   "execution_count": 9,
   "metadata": {},
   "outputs": [
    {
     "data": {
      "text/html": [
       "<div>\n",
       "<style scoped>\n",
       "    .dataframe tbody tr th:only-of-type {\n",
       "        vertical-align: middle;\n",
       "    }\n",
       "\n",
       "    .dataframe tbody tr th {\n",
       "        vertical-align: top;\n",
       "    }\n",
       "\n",
       "    .dataframe thead th {\n",
       "        text-align: right;\n",
       "    }\n",
       "</style>\n",
       "<table border=\"1\" class=\"dataframe\">\n",
       "  <thead>\n",
       "    <tr style=\"text-align: right;\">\n",
       "      <th></th>\n",
       "      <th>date</th>\n",
       "      <th>rate</th>\n",
       "      <th>Date</th>\n",
       "      <th>Confirmed</th>\n",
       "    </tr>\n",
       "  </thead>\n",
       "  <tbody>\n",
       "    <tr>\n",
       "      <th>0</th>\n",
       "      <td>2020-02-07</td>\n",
       "      <td>1181.4</td>\n",
       "      <td>NaT</td>\n",
       "      <td>NaN</td>\n",
       "    </tr>\n",
       "    <tr>\n",
       "      <th>1</th>\n",
       "      <td>2020-02-10</td>\n",
       "      <td>1187.2</td>\n",
       "      <td>2020-02-10</td>\n",
       "      <td>1.0</td>\n",
       "    </tr>\n",
       "    <tr>\n",
       "      <th>2</th>\n",
       "      <td>2020-02-11</td>\n",
       "      <td>1189.8</td>\n",
       "      <td>2020-02-11</td>\n",
       "      <td>0.0</td>\n",
       "    </tr>\n",
       "    <tr>\n",
       "      <th>3</th>\n",
       "      <td>2020-02-12</td>\n",
       "      <td>1184.1</td>\n",
       "      <td>2020-02-12</td>\n",
       "      <td>0.0</td>\n",
       "    </tr>\n",
       "    <tr>\n",
       "      <th>4</th>\n",
       "      <td>2020-02-13</td>\n",
       "      <td>1179.8</td>\n",
       "      <td>2020-02-13</td>\n",
       "      <td>0.0</td>\n",
       "    </tr>\n",
       "    <tr>\n",
       "      <th>...</th>\n",
       "      <td>...</td>\n",
       "      <td>...</td>\n",
       "      <td>...</td>\n",
       "      <td>...</td>\n",
       "    </tr>\n",
       "    <tr>\n",
       "      <th>161</th>\n",
       "      <td>NaT</td>\n",
       "      <td>NaN</td>\n",
       "      <td>2020-07-26</td>\n",
       "      <td>25.0</td>\n",
       "    </tr>\n",
       "    <tr>\n",
       "      <th>162</th>\n",
       "      <td>NaT</td>\n",
       "      <td>NaN</td>\n",
       "      <td>2020-08-02</td>\n",
       "      <td>23.0</td>\n",
       "    </tr>\n",
       "    <tr>\n",
       "      <th>163</th>\n",
       "      <td>NaT</td>\n",
       "      <td>NaN</td>\n",
       "      <td>2020-08-09</td>\n",
       "      <td>28.0</td>\n",
       "    </tr>\n",
       "    <tr>\n",
       "      <th>164</th>\n",
       "      <td>NaT</td>\n",
       "      <td>NaN</td>\n",
       "      <td>2020-08-16</td>\n",
       "      <td>197.0</td>\n",
       "    </tr>\n",
       "    <tr>\n",
       "      <th>165</th>\n",
       "      <td>NaT</td>\n",
       "      <td>NaN</td>\n",
       "      <td>2020-08-23</td>\n",
       "      <td>266.0</td>\n",
       "    </tr>\n",
       "  </tbody>\n",
       "</table>\n",
       "<p>166 rows × 4 columns</p>\n",
       "</div>"
      ],
      "text/plain": [
       "          date    rate       Date  Confirmed\n",
       "0   2020-02-07  1181.4        NaT        NaN\n",
       "1   2020-02-10  1187.2 2020-02-10        1.0\n",
       "2   2020-02-11  1189.8 2020-02-11        0.0\n",
       "3   2020-02-12  1184.1 2020-02-12        0.0\n",
       "4   2020-02-13  1179.8 2020-02-13        0.0\n",
       "..         ...     ...        ...        ...\n",
       "161        NaT     NaN 2020-07-26       25.0\n",
       "162        NaT     NaN 2020-08-02       23.0\n",
       "163        NaT     NaN 2020-08-09       28.0\n",
       "164        NaT     NaN 2020-08-16      197.0\n",
       "165        NaT     NaN 2020-08-23      266.0\n",
       "\n",
       "[166 rows x 4 columns]"
      ]
     },
     "execution_count": 9,
     "metadata": {},
     "output_type": "execute_result"
    }
   ],
   "source": [
    "#전처리가 된 두개의 데이터를 full outer join!\n",
    "#필요한 열로만 구성된 dataframe 생성.\n",
    "\n",
    "p=pd.merge(df_exchange,df_covid_nonsaturday,left_on=\"date\",right_on=\"Date\",how=\"outer\")\n",
    "p2=p[[\"date\",\"rate\",\"Date\",\"Confirmed\"]]\n",
    "p2\n",
    "\n",
    "#p2.sort_values(by=\"Date\").head(20)"
   ]
  },
  {
   "cell_type": "code",
   "execution_count": 10,
   "metadata": {},
   "outputs": [
    {
     "name": "stderr",
     "output_type": "stream",
     "text": [
      "C:\\Users\\student\\anaconda3\\lib\\site-packages\\pandas\\core\\indexing.py:966: SettingWithCopyWarning: \n",
      "A value is trying to be set on a copy of a slice from a DataFrame.\n",
      "Try using .loc[row_indexer,col_indexer] = value instead\n",
      "\n",
      "See the caveats in the documentation: https://pandas.pydata.org/pandas-docs/stable/user_guide/indexing.html#returning-a-view-versus-a-copy\n",
      "  self.obj[item] = s\n",
      "<ipython-input-10-e2bb1076b58a>:7: SettingWithCopyWarning: \n",
      "A value is trying to be set on a copy of a slice from a DataFrame\n",
      "\n",
      "See the caveats in the documentation: https://pandas.pydata.org/pandas-docs/stable/user_guide/indexing.html#returning-a-view-versus-a-copy\n",
      "  p2.sort_values(by=\"Date\",inplace=True)\n"
     ]
    },
    {
     "data": {
      "text/html": [
       "<div>\n",
       "<style scoped>\n",
       "    .dataframe tbody tr th:only-of-type {\n",
       "        vertical-align: middle;\n",
       "    }\n",
       "\n",
       "    .dataframe tbody tr th {\n",
       "        vertical-align: top;\n",
       "    }\n",
       "\n",
       "    .dataframe thead th {\n",
       "        text-align: right;\n",
       "    }\n",
       "</style>\n",
       "<table border=\"1\" class=\"dataframe\">\n",
       "  <thead>\n",
       "    <tr style=\"text-align: right;\">\n",
       "      <th></th>\n",
       "      <th>date</th>\n",
       "      <th>rate</th>\n",
       "      <th>Date</th>\n",
       "      <th>Confirmed</th>\n",
       "    </tr>\n",
       "  </thead>\n",
       "  <tbody>\n",
       "    <tr>\n",
       "      <th>0</th>\n",
       "      <td>2020-02-07</td>\n",
       "      <td>1181.4</td>\n",
       "      <td>2020-02-07</td>\n",
       "      <td>NaN</td>\n",
       "    </tr>\n",
       "    <tr>\n",
       "      <th>137</th>\n",
       "      <td>2020-02-09</td>\n",
       "      <td>NaN</td>\n",
       "      <td>2020-02-09</td>\n",
       "      <td>0.0</td>\n",
       "    </tr>\n",
       "    <tr>\n",
       "      <th>1</th>\n",
       "      <td>2020-02-10</td>\n",
       "      <td>1187.2</td>\n",
       "      <td>2020-02-10</td>\n",
       "      <td>1.0</td>\n",
       "    </tr>\n",
       "    <tr>\n",
       "      <th>2</th>\n",
       "      <td>2020-02-11</td>\n",
       "      <td>1189.8</td>\n",
       "      <td>2020-02-11</td>\n",
       "      <td>0.0</td>\n",
       "    </tr>\n",
       "    <tr>\n",
       "      <th>3</th>\n",
       "      <td>2020-02-12</td>\n",
       "      <td>1184.1</td>\n",
       "      <td>2020-02-12</td>\n",
       "      <td>0.0</td>\n",
       "    </tr>\n",
       "    <tr>\n",
       "      <th>...</th>\n",
       "      <td>...</td>\n",
       "      <td>...</td>\n",
       "      <td>...</td>\n",
       "      <td>...</td>\n",
       "    </tr>\n",
       "    <tr>\n",
       "      <th>133</th>\n",
       "      <td>2020-08-19</td>\n",
       "      <td>1185.1</td>\n",
       "      <td>2020-08-19</td>\n",
       "      <td>288.0</td>\n",
       "    </tr>\n",
       "    <tr>\n",
       "      <th>134</th>\n",
       "      <td>2020-08-20</td>\n",
       "      <td>1182.3</td>\n",
       "      <td>2020-08-20</td>\n",
       "      <td>324.0</td>\n",
       "    </tr>\n",
       "    <tr>\n",
       "      <th>135</th>\n",
       "      <td>2020-08-21</td>\n",
       "      <td>1186.3</td>\n",
       "      <td>2020-08-21</td>\n",
       "      <td>NaN</td>\n",
       "    </tr>\n",
       "    <tr>\n",
       "      <th>165</th>\n",
       "      <td>2020-08-23</td>\n",
       "      <td>NaN</td>\n",
       "      <td>2020-08-23</td>\n",
       "      <td>266.0</td>\n",
       "    </tr>\n",
       "    <tr>\n",
       "      <th>136</th>\n",
       "      <td>2020-08-24</td>\n",
       "      <td>1185.3</td>\n",
       "      <td>2020-08-24</td>\n",
       "      <td>280.0</td>\n",
       "    </tr>\n",
       "  </tbody>\n",
       "</table>\n",
       "<p>166 rows × 4 columns</p>\n",
       "</div>"
      ],
      "text/plain": [
       "          date    rate       Date  Confirmed\n",
       "0   2020-02-07  1181.4 2020-02-07        NaN\n",
       "137 2020-02-09     NaN 2020-02-09        0.0\n",
       "1   2020-02-10  1187.2 2020-02-10        1.0\n",
       "2   2020-02-11  1189.8 2020-02-11        0.0\n",
       "3   2020-02-12  1184.1 2020-02-12        0.0\n",
       "..         ...     ...        ...        ...\n",
       "133 2020-08-19  1185.1 2020-08-19      288.0\n",
       "134 2020-08-20  1182.3 2020-08-20      324.0\n",
       "135 2020-08-21  1186.3 2020-08-21        NaN\n",
       "165 2020-08-23     NaN 2020-08-23      266.0\n",
       "136 2020-08-24  1185.3 2020-08-24      280.0\n",
       "\n",
       "[166 rows x 4 columns]"
      ]
     },
     "execution_count": 10,
     "metadata": {},
     "output_type": "execute_result"
    }
   ],
   "source": [
    "for row in range(p2.shape[0]):\n",
    "    if pd.isnull(p2.iloc[row, 0]):\n",
    "        p2.iloc[row,0 ] = p2.iloc[row,2 ]\n",
    "    elif pd.isnull(p2.iloc[row, 2]):\n",
    "        p2.iloc[row,2 ] = p2.iloc[row,0 ]   \n",
    "        \n",
    "p2.sort_values(by=\"Date\",inplace=True)\n",
    "p2\n",
    "#p2.shape #166행 4열\n",
    "#p2.head(20)"
   ]
  },
  {
   "cell_type": "code",
   "execution_count": 11,
   "metadata": {},
   "outputs": [
    {
     "data": {
      "text/plain": [
       "0"
      ]
     },
     "execution_count": 11,
     "metadata": {},
     "output_type": "execute_result"
    }
   ],
   "source": [
    "sum(p2[\"Date\"].isnull())\n",
    "sum(p2[\"date\"].isnull())"
   ]
  },
  {
   "cell_type": "code",
   "execution_count": 26,
   "metadata": {},
   "outputs": [
    {
     "data": {
      "text/plain": [
       "165"
      ]
     },
     "execution_count": 26,
     "metadata": {},
     "output_type": "execute_result"
    }
   ],
   "source": [
    "p3=p2.iloc[1:,]\n",
    "p3 #2월 9일부터의 데이터프레임\n",
    "p3[\"rate\"]\n",
    "len(p3[\"rate\"]) #165개\n",
    "p3[\"Confirmed\"]\n",
    "len(p3[\"Confirmed\"]) #165개"
   ]
  },
  {
   "cell_type": "code",
   "execution_count": 27,
   "metadata": {},
   "outputs": [],
   "source": [
    "rate_list=list(p3[\"rate\"])\n",
    "confirmed_list=list(p3[\"Confirmed\"])"
   ]
  },
  {
   "cell_type": "code",
   "execution_count": 28,
   "metadata": {},
   "outputs": [
    {
     "data": {
      "text/plain": [
       "165"
      ]
     },
     "execution_count": 28,
     "metadata": {},
     "output_type": "execute_result"
    }
   ],
   "source": [
    "rate_list\n",
    "len(rate_list) #165개"
   ]
  },
  {
   "cell_type": "code",
   "execution_count": 32,
   "metadata": {},
   "outputs": [
    {
     "data": {
      "text/plain": [
       "165"
      ]
     },
     "execution_count": 32,
     "metadata": {},
     "output_type": "execute_result"
    }
   ],
   "source": [
    "confirmed_list\n",
    "len(confirmed_list) #165개"
   ]
  },
  {
   "cell_type": "code",
   "execution_count": 33,
   "metadata": {},
   "outputs": [],
   "source": [
    "#rate_list.remove(nan)\n",
    "from numpy import NaN,NAN,nan\n",
    "\n",
    "rate_new_list=[ i for i in rate_list if pd.isnull(i)==False]\n",
    "confirmed_new_list=[ i for i in confirmed_list if pd.isnull(i)==False]"
   ]
  },
  {
   "cell_type": "code",
   "execution_count": 42,
   "metadata": {},
   "outputs": [
    {
     "data": {
      "text/plain": [
       "136"
      ]
     },
     "execution_count": 42,
     "metadata": {},
     "output_type": "execute_result"
    }
   ],
   "source": [
    "len(rate_new_list) #136개   \n",
    "len(confirmed_new_list) #136개\n",
    "#confirmed_new_list.remove(280.0)\n",
    "#del(confirmed_new_list[57])"
   ]
  },
  {
   "cell_type": "code",
   "execution_count": 19,
   "metadata": {},
   "outputs": [],
   "source": [
    "from matplotlib import font_manager\n",
    "import matplotlib.pyplot as plt\n",
    "\n",
    "font_path = \"c:/windows/fonts/H2GTRE.TTF\"\n",
    "font_name = font_manager.FontProperties(fname=font_path).get_name()\n",
    "plt.rc(\"font\", family=font_name)"
   ]
  },
  {
   "cell_type": "code",
   "execution_count": 43,
   "metadata": {},
   "outputs": [
    {
     "data": {
      "text/plain": [
       "136"
      ]
     },
     "execution_count": 43,
     "metadata": {},
     "output_type": "execute_result"
    }
   ],
   "source": [
    "rate_new_list        \n",
    "len(confirmed_new_list)"
   ]
  },
  {
   "cell_type": "code",
   "execution_count": 44,
   "metadata": {},
   "outputs": [
    {
     "data": {
      "text/html": [
       "<div>\n",
       "<style scoped>\n",
       "    .dataframe tbody tr th:only-of-type {\n",
       "        vertical-align: middle;\n",
       "    }\n",
       "\n",
       "    .dataframe tbody tr th {\n",
       "        vertical-align: top;\n",
       "    }\n",
       "\n",
       "    .dataframe thead th {\n",
       "        text-align: right;\n",
       "    }\n",
       "</style>\n",
       "<table border=\"1\" class=\"dataframe\">\n",
       "  <thead>\n",
       "    <tr style=\"text-align: right;\">\n",
       "      <th></th>\n",
       "      <th>Confirmed</th>\n",
       "      <th>rate</th>\n",
       "    </tr>\n",
       "  </thead>\n",
       "  <tbody>\n",
       "    <tr>\n",
       "      <th>0</th>\n",
       "      <td>0.0</td>\n",
       "      <td>1187.2</td>\n",
       "    </tr>\n",
       "    <tr>\n",
       "      <th>1</th>\n",
       "      <td>1.0</td>\n",
       "      <td>1189.8</td>\n",
       "    </tr>\n",
       "    <tr>\n",
       "      <th>2</th>\n",
       "      <td>0.0</td>\n",
       "      <td>1184.1</td>\n",
       "    </tr>\n",
       "    <tr>\n",
       "      <th>3</th>\n",
       "      <td>0.0</td>\n",
       "      <td>1179.8</td>\n",
       "    </tr>\n",
       "    <tr>\n",
       "      <th>4</th>\n",
       "      <td>0.0</td>\n",
       "      <td>1181.5</td>\n",
       "    </tr>\n",
       "    <tr>\n",
       "      <th>...</th>\n",
       "      <td>...</td>\n",
       "      <td>...</td>\n",
       "    </tr>\n",
       "    <tr>\n",
       "      <th>131</th>\n",
       "      <td>197.0</td>\n",
       "      <td>1185.8</td>\n",
       "    </tr>\n",
       "    <tr>\n",
       "      <th>132</th>\n",
       "      <td>297.0</td>\n",
       "      <td>1185.1</td>\n",
       "    </tr>\n",
       "    <tr>\n",
       "      <th>133</th>\n",
       "      <td>288.0</td>\n",
       "      <td>1182.3</td>\n",
       "    </tr>\n",
       "    <tr>\n",
       "      <th>134</th>\n",
       "      <td>324.0</td>\n",
       "      <td>1186.3</td>\n",
       "    </tr>\n",
       "    <tr>\n",
       "      <th>135</th>\n",
       "      <td>266.0</td>\n",
       "      <td>1185.3</td>\n",
       "    </tr>\n",
       "  </tbody>\n",
       "</table>\n",
       "<p>136 rows × 2 columns</p>\n",
       "</div>"
      ],
      "text/plain": [
       "     Confirmed    rate\n",
       "0          0.0  1187.2\n",
       "1          1.0  1189.8\n",
       "2          0.0  1184.1\n",
       "3          0.0  1179.8\n",
       "4          0.0  1181.5\n",
       "..         ...     ...\n",
       "131      197.0  1185.8\n",
       "132      297.0  1185.1\n",
       "133      288.0  1182.3\n",
       "134      324.0  1186.3\n",
       "135      266.0  1185.3\n",
       "\n",
       "[136 rows x 2 columns]"
      ]
     },
     "execution_count": 44,
     "metadata": {},
     "output_type": "execute_result"
    }
   ],
   "source": [
    "new_df=pd.DataFrame({\"Confirmed\":confirmed_new_list, \"rate\":rate_new_list})\n",
    "new_df"
   ]
  },
  {
   "cell_type": "code",
   "execution_count": 45,
   "metadata": {},
   "outputs": [
    {
     "data": {
      "image/png": "[encoded data removed]",
      "text/plain": [
       "<Figure size 432x288 with 1 Axes>"
      ]
     },
     "metadata": {
      "needs_background": "light"
     },
     "output_type": "display_data"
    }
   ],
   "source": [
    "plt.plot(confirmed_new_list, rate_new_list, 'bo', )\n",
    "plt.grid()\n",
    "plt.xlabel(\"confirmed\")\n",
    "plt.ylabel(\"rate\")\n",
    "#plt.xlim(0,100)\n",
    "plt.title(\"확진자수 대비 환율 그래프\")\n",
    "plt.show()"
   ]
  },
  {
   "cell_type": "code",
   "execution_count": 46,
   "metadata": {},
   "outputs": [
    {
     "data": {
      "text/html": [
       "<div>\n",
       "<style scoped>\n",
       "    .dataframe tbody tr th:only-of-type {\n",
       "        vertical-align: middle;\n",
       "    }\n",
       "\n",
       "    .dataframe tbody tr th {\n",
       "        vertical-align: top;\n",
       "    }\n",
       "\n",
       "    .dataframe thead th {\n",
       "        text-align: right;\n",
       "    }\n",
       "</style>\n",
       "<table border=\"1\" class=\"dataframe\">\n",
       "  <thead>\n",
       "    <tr style=\"text-align: right;\">\n",
       "      <th></th>\n",
       "      <th>Confirmed</th>\n",
       "      <th>rate</th>\n",
       "    </tr>\n",
       "  </thead>\n",
       "  <tbody>\n",
       "    <tr>\n",
       "      <th>Confirmed</th>\n",
       "      <td>1.000000</td>\n",
       "      <td>-0.164648</td>\n",
       "    </tr>\n",
       "    <tr>\n",
       "      <th>rate</th>\n",
       "      <td>-0.164648</td>\n",
       "      <td>1.000000</td>\n",
       "    </tr>\n",
       "  </tbody>\n",
       "</table>\n",
       "</div>"
      ],
      "text/plain": [
       "           Confirmed      rate\n",
       "Confirmed   1.000000 -0.164648\n",
       "rate       -0.164648  1.000000"
      ]
     },
     "execution_count": 46,
     "metadata": {},
     "output_type": "execute_result"
    }
   ],
   "source": [
    "new_df.corr() #상관계수가 -0.165로 거의 상관이 없음"
   ]
  },
  {
   "cell_type": "code",
   "execution_count": 47,
   "metadata": {},
   "outputs": [
    {
     "data": {
      "text/plain": [
       "-0.1646476559635567"
      ]
     },
     "execution_count": 47,
     "metadata": {},
     "output_type": "execute_result"
    }
   ],
   "source": [
    "from scipy import stats\n",
    "des=stats.linregress(new_df.Confirmed,new_df.rate)\n",
    "des[0] #기울기\n",
    "des[1] #절편\n",
    "des[2] #상관계수\n"
   ]
  },
  {
   "cell_type": "code",
   "execution_count": 48,
   "metadata": {},
   "outputs": [
    {
     "name": "stdout",
     "output_type": "stream",
     "text": [
      "8/24일 확진자수가 280명일 때 환율의 예측 값:  1205.181813690828\n"
     ]
    }
   ],
   "source": [
    "slope,intercept,rvalue,pvalue,stderr=stats.linregress(new_df.Confirmed,new_df.rate)\n",
    "print(\"8/24일 확진자수가 280명일 때 환율의 예측 값: \", 280*slope+intercept) #실제환율:1,185.10"
   ]
  },
  {
   "cell_type": "code",
   "execution_count": 49,
   "metadata": {},
   "outputs": [
    {
     "data": {
      "text/html": [
       "<table class=\"simpletable\">\n",
       "<caption>OLS Regression Results</caption>\n",
       "<tr>\n",
       "  <th>Dep. Variable:</th>          <td>rate</td>       <th>  R-squared:         </th> <td>   0.027</td>\n",
       "</tr>\n",
       "<tr>\n",
       "  <th>Model:</th>                   <td>OLS</td>       <th>  Adj. R-squared:    </th> <td>   0.020</td>\n",
       "</tr>\n",
       "<tr>\n",
       "  <th>Method:</th>             <td>Least Squares</td>  <th>  F-statistic:       </th> <td>   3.734</td>\n",
       "</tr>\n",
       "<tr>\n",
       "  <th>Date:</th>             <td>Thu, 27 Aug 2020</td> <th>  Prob (F-statistic):</th>  <td>0.0554</td> \n",
       "</tr>\n",
       "<tr>\n",
       "  <th>Time:</th>                 <td>11:35:17</td>     <th>  Log-Likelihood:    </th> <td> -595.05</td>\n",
       "</tr>\n",
       "<tr>\n",
       "  <th>No. Observations:</th>      <td>   136</td>      <th>  AIC:               </th> <td>   1194.</td>\n",
       "</tr>\n",
       "<tr>\n",
       "  <th>Df Residuals:</th>          <td>   134</td>      <th>  BIC:               </th> <td>   1200.</td>\n",
       "</tr>\n",
       "<tr>\n",
       "  <th>Df Model:</th>              <td>     1</td>      <th>                     </th>     <td> </td>   \n",
       "</tr>\n",
       "<tr>\n",
       "  <th>Covariance Type:</th>      <td>nonrobust</td>    <th>                     </th>     <td> </td>   \n",
       "</tr>\n",
       "</table>\n",
       "<table class=\"simpletable\">\n",
       "<tr>\n",
       "      <td></td>         <th>coef</th>     <th>std err</th>      <th>t</th>      <th>P>|t|</th>  <th>[0.025</th>    <th>0.975]</th>  \n",
       "</tr>\n",
       "<tr>\n",
       "  <th>Intercept</th> <td> 1212.6909</td> <td>    2.025</td> <td>  598.847</td> <td> 0.000</td> <td> 1208.686</td> <td> 1216.696</td>\n",
       "</tr>\n",
       "<tr>\n",
       "  <th>Confirmed</th> <td>   -0.0268</td> <td>    0.014</td> <td>   -1.932</td> <td> 0.055</td> <td>   -0.054</td> <td>    0.001</td>\n",
       "</tr>\n",
       "</table>\n",
       "<table class=\"simpletable\">\n",
       "<tr>\n",
       "  <th>Omnibus:</th>       <td>11.921</td> <th>  Durbin-Watson:     </th> <td>   0.173</td>\n",
       "</tr>\n",
       "<tr>\n",
       "  <th>Prob(Omnibus):</th> <td> 0.003</td> <th>  Jarque-Bera (JB):  </th> <td>  12.428</td>\n",
       "</tr>\n",
       "<tr>\n",
       "  <th>Skew:</th>          <td> 0.667</td> <th>  Prob(JB):          </th> <td> 0.00200</td>\n",
       "</tr>\n",
       "<tr>\n",
       "  <th>Kurtosis:</th>      <td> 3.643</td> <th>  Cond. No.          </th> <td>    178.</td>\n",
       "</tr>\n",
       "</table><br/><br/>Warnings:<br/>[1] Standard Errors assume that the covariance matrix of the errors is correctly specified."
      ],
      "text/plain": [
       "<class 'statsmodels.iolib.summary.Summary'>\n",
       "\"\"\"\n",
       "                            OLS Regression Results                            \n",
       "==============================================================================\n",
       "Dep. Variable:                   rate   R-squared:                       0.027\n",
       "Model:                            OLS   Adj. R-squared:                  0.020\n",
       "Method:                 Least Squares   F-statistic:                     3.734\n",
       "Date:                Thu, 27 Aug 2020   Prob (F-statistic):             0.0554\n",
       "Time:                        11:35:17   Log-Likelihood:                -595.05\n",
       "No. Observations:                 136   AIC:                             1194.\n",
       "Df Residuals:                     134   BIC:                             1200.\n",
       "Df Model:                           1                                         \n",
       "Covariance Type:            nonrobust                                         \n",
       "==============================================================================\n",
       "                 coef    std err          t      P>|t|      [0.025      0.975]\n",
       "------------------------------------------------------------------------------\n",
       "Intercept   1212.6909      2.025    598.847      0.000    1208.686    1216.696\n",
       "Confirmed     -0.0268      0.014     -1.932      0.055      -0.054       0.001\n",
       "==============================================================================\n",
       "Omnibus:                       11.921   Durbin-Watson:                   0.173\n",
       "Prob(Omnibus):                  0.003   Jarque-Bera (JB):               12.428\n",
       "Skew:                           0.667   Prob(JB):                      0.00200\n",
       "Kurtosis:                       3.643   Cond. No.                         178.\n",
       "==============================================================================\n",
       "\n",
       "Warnings:\n",
       "[1] Standard Errors assume that the covariance matrix of the errors is correctly specified.\n",
       "\"\"\""
      ]
     },
     "execution_count": 49,
     "metadata": {},
     "output_type": "execute_result"
    }
   ],
   "source": [
    "import statsmodels.formula.api as smf\n",
    "import matplotlib.pylab as plt\n",
    "\n",
    "#ols:ordinary least squares.\n",
    "#결정계수:0.027\n",
    "#회귀식의 계수:-0.0268\n",
    "#유의수준:0.056 : 0.05보다 높으므로 변수로 사용하기에 적합하지 않다.\n",
    "model=smf.ols(formula=\"rate~Confirmed\",data=new_df)\n",
    "result=model.fit()\n",
    "result.summary()"
   ]
  },
  {
   "cell_type": "code",
   "execution_count": 62,
   "metadata": {},
   "outputs": [
    {
     "name": "stderr",
     "output_type": "stream",
     "text": [
      "<ipython-input-62-c6f11181f1f2>:8: DeprecationWarning: scipy.polyval is deprecated and will be removed in SciPy 2.0.0, use numpy.polyval instead\n",
      "  ry=polyval([slope,intercept],x)\n"
     ]
    },
    {
     "data": {
      "image/png": "[encoded data removed]",
      "text/plain": [
       "<Figure size 432x288 with 1 Axes>"
      ]
     },
     "metadata": {
      "needs_background": "light"
     },
     "output_type": "display_data"
    }
   ],
   "source": [
    "from scipy import stats,polyval\n",
    "from pylab import plot,title,show,legend\n",
    "\n",
    "x=new_df[\"Confirmed\"]\n",
    "y=new_df[\"rate\"]\n",
    "\n",
    "slope,intercept,r,p,std=stats.linregress(x,y)\n",
    "ry=polyval([slope,intercept],x)\n",
    "\n",
    "#print(slope,intercept,r,p,std)\n",
    "#print(ry)\n",
    "plot(x,y,'k.')\n",
    "plot(x,ry,'r-')\n",
    "title(\"regression\")\n",
    "\n",
    "legend([\"original\",\"regression\"])\n",
    "show()"
   ]
  },
  {
   "cell_type": "markdown",
   "metadata": {},
   "source": [
    "# 시계열분석"
   ]
  },
  {
   "cell_type": "code",
   "execution_count": 108,
   "metadata": {},
   "outputs": [
    {
     "name": "stdout",
     "output_type": "stream",
     "text": [
      "<class 'pandas.core.frame.DataFrame'>\n",
      "Int64Index: 165 entries, 137 to 136\n",
      "Data columns (total 2 columns):\n",
      " #   Column  Non-Null Count  Dtype         \n",
      "---  ------  --------------  -----         \n",
      " 0   Date    165 non-null    datetime64[ns]\n",
      " 1   rate    165 non-null    float64       \n",
      "dtypes: datetime64[ns](1), float64(1)\n",
      "memory usage: 3.9 KB\n"
     ]
    },
    {
     "data": {
      "text/html": [
       "<div>\n",
       "<style scoped>\n",
       "    .dataframe tbody tr th:only-of-type {\n",
       "        vertical-align: middle;\n",
       "    }\n",
       "\n",
       "    .dataframe tbody tr th {\n",
       "        vertical-align: top;\n",
       "    }\n",
       "\n",
       "    .dataframe thead th {\n",
       "        text-align: right;\n",
       "    }\n",
       "</style>\n",
       "<table border=\"1\" class=\"dataframe\">\n",
       "  <thead>\n",
       "    <tr style=\"text-align: right;\">\n",
       "      <th></th>\n",
       "      <th>Date</th>\n",
       "      <th>rate</th>\n",
       "    </tr>\n",
       "  </thead>\n",
       "  <tbody>\n",
       "    <tr>\n",
       "      <th>137</th>\n",
       "      <td>2020-02-09</td>\n",
       "      <td>1187.2</td>\n",
       "    </tr>\n",
       "    <tr>\n",
       "      <th>1</th>\n",
       "      <td>2020-02-10</td>\n",
       "      <td>1187.2</td>\n",
       "    </tr>\n",
       "    <tr>\n",
       "      <th>2</th>\n",
       "      <td>2020-02-11</td>\n",
       "      <td>1189.8</td>\n",
       "    </tr>\n",
       "    <tr>\n",
       "      <th>3</th>\n",
       "      <td>2020-02-12</td>\n",
       "      <td>1184.1</td>\n",
       "    </tr>\n",
       "    <tr>\n",
       "      <th>4</th>\n",
       "      <td>2020-02-13</td>\n",
       "      <td>1179.8</td>\n",
       "    </tr>\n",
       "    <tr>\n",
       "      <th>...</th>\n",
       "      <td>...</td>\n",
       "      <td>...</td>\n",
       "    </tr>\n",
       "    <tr>\n",
       "      <th>133</th>\n",
       "      <td>2020-08-19</td>\n",
       "      <td>1185.1</td>\n",
       "    </tr>\n",
       "    <tr>\n",
       "      <th>134</th>\n",
       "      <td>2020-08-20</td>\n",
       "      <td>1182.3</td>\n",
       "    </tr>\n",
       "    <tr>\n",
       "      <th>135</th>\n",
       "      <td>2020-08-21</td>\n",
       "      <td>1186.3</td>\n",
       "    </tr>\n",
       "    <tr>\n",
       "      <th>165</th>\n",
       "      <td>2020-08-23</td>\n",
       "      <td>1185.3</td>\n",
       "    </tr>\n",
       "    <tr>\n",
       "      <th>136</th>\n",
       "      <td>2020-08-24</td>\n",
       "      <td>1185.3</td>\n",
       "    </tr>\n",
       "  </tbody>\n",
       "</table>\n",
       "<p>165 rows × 2 columns</p>\n",
       "</div>"
      ],
      "text/plain": [
       "          Date    rate\n",
       "137 2020-02-09  1187.2\n",
       "1   2020-02-10  1187.2\n",
       "2   2020-02-11  1189.8\n",
       "3   2020-02-12  1184.1\n",
       "4   2020-02-13  1179.8\n",
       "..         ...     ...\n",
       "133 2020-08-19  1185.1\n",
       "134 2020-08-20  1182.3\n",
       "135 2020-08-21  1186.3\n",
       "165 2020-08-23  1185.3\n",
       "136 2020-08-24  1185.3\n",
       "\n",
       "[165 rows x 2 columns]"
      ]
     },
     "execution_count": 108,
     "metadata": {},
     "output_type": "execute_result"
    }
   ],
   "source": [
    "p3.head(20)\n",
    "p3_new=p3[[\"Date\",\"rate\"]]\n",
    "p3_new=p3_new.fillna(method=\"bfill\")\n",
    "p3_new.info()\n",
    "p3_new"
   ]
  },
  {
   "cell_type": "code",
   "execution_count": 109,
   "metadata": {},
   "outputs": [
    {
     "data": {
      "image/png": "[encoded data removed]",
      "text/plain": [
       "<Figure size 432x288 with 1 Axes>"
      ]
     },
     "metadata": {
      "needs_background": "light"
     },
     "output_type": "display_data"
    }
   ],
   "source": [
    "p3_new.index=p3_new[\"Date\"]\n",
    "p3_new.set_index(\"Date\",inplace=True) #한번 돌렸으면 고정\n",
    "#p3_new.head(20)\n",
    "\n",
    "p3_new.plot()\n",
    "plt.show()"
   ]
  },
  {
   "cell_type": "code",
   "execution_count": 110,
   "metadata": {},
   "outputs": [
    {
     "name": "stdout",
     "output_type": "stream",
     "text": [
      "                             ARIMA Model Results                              \n",
      "==============================================================================\n",
      "Dep. Variable:                    D.y   No. Observations:                  164\n",
      "Model:                 ARIMA(2, 1, 2)   Log Likelihood                -555.544\n",
      "Method:                       css-mle   S.D. of innovations              7.158\n",
      "Date:                Thu, 27 Aug 2020   AIC                           1123.087\n",
      "Time:                        15:29:18   BIC                           1141.686\n",
      "Sample:                             1   HQIC                          1130.638\n",
      "                                                                              \n",
      "==============================================================================\n",
      "                 coef    std err          z      P>|z|      [0.025      0.975]\n",
      "------------------------------------------------------------------------------\n",
      "const         -0.0118      0.596     -0.020      0.984      -1.180       1.156\n",
      "ar.L1.D.y      0.6148      0.297      2.068      0.039       0.032       1.198\n",
      "ar.L2.D.y     -0.3676      0.366     -1.005      0.315      -1.085       0.349\n",
      "ma.L1.D.y     -0.7510      0.270     -2.781      0.005      -1.280      -0.222\n",
      "ma.L2.D.y      0.5551      0.317      1.751      0.080      -0.066       1.176\n",
      "                                    Roots                                    \n",
      "=============================================================================\n",
      "                  Real          Imaginary           Modulus         Frequency\n",
      "-----------------------------------------------------------------------------\n",
      "AR.1            0.8362           -1.4217j            1.6494           -0.1654\n",
      "AR.2            0.8362           +1.4217j            1.6494            0.1654\n",
      "MA.1            0.6765           -1.1593j            1.3422           -0.1659\n",
      "MA.2            0.6765           +1.1593j            1.3422            0.1659\n",
      "-----------------------------------------------------------------------------\n"
     ]
    }
   ],
   "source": [
    "from statsmodels.tsa.arima_model import ARIMA\n",
    "import statsmodels.api as sm\n",
    "#AR : 경향성, 현재는 과거의 상태로 추론된다.\n",
    "#MA : 이전항에서의 차이(오차)를 참고한다. \n",
    "# (AR=2, I:차분=1, MA=2) 파라미터로 ARIMA 모델을 학습합니다.\n",
    "model = ARIMA(p3_new.rate.values, order=(2,1,2))\n",
    "model_fit = model.fit(trend='c', full_output=True, disp=True)\n",
    "print(model_fit.summary())"
   ]
  },
  {
   "cell_type": "code",
   "execution_count": 111,
   "metadata": {},
   "outputs": [
    {
     "data": {
      "text/plain": [
       "<matplotlib.axes._subplots.AxesSubplot at 0x2c8f1d24ca0>"
      ]
     },
     "execution_count": 111,
     "metadata": {},
     "output_type": "execute_result"
    },
    {
     "data": {
      "image/png": "[encoded data removed]",
      "text/plain": [
       "<Figure size 432x288 with 1 Axes>"
      ]
     },
     "metadata": {
      "needs_background": "light"
     },
     "output_type": "display_data"
    },
    {
     "name": "stderr",
     "output_type": "stream",
     "text": [
      "C:\\Users\\student\\anaconda3\\lib\\site-packages\\matplotlib\\backends\\backend_agg.py:214: RuntimeWarning: Glyph 8722 missing from current font.\n",
      "  font.set_text(s, 0.0, flags=flags)\n",
      "C:\\Users\\student\\anaconda3\\lib\\site-packages\\matplotlib\\backends\\backend_agg.py:183: RuntimeWarning: Glyph 8722 missing from current font.\n",
      "  font.set_text(s, 0, flags=flags)\n"
     ]
    },
    {
     "data": {
      "image/png": "[encoded data removed]",
      "text/plain": [
       "<Figure size 432x288 with 1 Axes>"
      ]
     },
     "metadata": {
      "needs_background": "light"
     },
     "output_type": "display_data"
    }
   ],
   "source": [
    "fig = model_fit.plot_predict() # 학습 데이터에 대한 예측 결과입니다. (첫번째 그래프)\n",
    "residuals = pd.DataFrame(model_fit.resid) # 잔차의 변동을 시각화합니다. (두번째 그래프)\n",
    "residuals.plot()"
   ]
  },
  {
   "cell_type": "code",
   "execution_count": 113,
   "metadata": {},
   "outputs": [
    {
     "name": "stdout",
     "output_type": "stream",
     "text": [
      "(array([1185.5038147 , 1185.64305685, 1185.64485847, 1185.58590226,\n",
      "       1185.54011544]), array([ 7.15766788,  9.45801483, 11.72209091, 14.04676335, 16.1492512 ]), array([[1171.47504344, 1199.53258596],\n",
      "       [1167.10568842, 1204.18042527],\n",
      "       [1162.66998247, 1208.61973448],\n",
      "       [1158.05475199, 1213.11705253],\n",
      "       [1153.88816472, 1217.19206617]]))\n",
      "[1185.5038147  1185.64305685 1185.64485847 1185.58590226 1185.54011544]\n"
     ]
    }
   ],
   "source": [
    "fig = model_fit.forecast(steps = 5)\n",
    "print(fig)\n",
    "print(fig[0])  #예측값 #1185.5038147"
   ]
  },
  {
   "cell_type": "code",
   "execution_count": null,
   "metadata": {},
   "outputs": [],
   "source": []
  },
  {
   "cell_type": "code",
   "execution_count": 79,
   "metadata": {},
   "outputs": [
    {
     "name": "stderr",
     "output_type": "stream",
     "text": [
      "C:\\Users\\student\\anaconda3\\lib\\site-packages\\matplotlib\\backends\\backend_agg.py:214: RuntimeWarning: Glyph 8722 missing from current font.\n",
      "  font.set_text(s, 0.0, flags=flags)\n",
      "C:\\Users\\student\\anaconda3\\lib\\site-packages\\matplotlib\\backends\\backend_agg.py:183: RuntimeWarning: Glyph 8722 missing from current font.\n",
      "  font.set_text(s, 0, flags=flags)\n"
     ]
    },
    {
     "data": {
      "image/png": "[encoded data removed]",
      "text/plain": [
       "<Figure size 432x288 with 1 Axes>"
      ]
     },
     "metadata": {
      "needs_background": "light"
     },
     "output_type": "display_data"
    },
    {
     "data": {
      "image/png": "[encoded data removed]",
      "text/plain": [
       "<Figure size 432x288 with 1 Axes>"
      ]
     },
     "metadata": {
      "needs_background": "light"
     },
     "output_type": "display_data"
    },
    {
     "data": {
      "text/plain": [
       "<Figure size 1440x288 with 0 Axes>"
      ]
     },
     "metadata": {},
     "output_type": "display_data"
    }
   ],
   "source": [
    "import matplotlib.pyplot as plt\n",
    "from statsmodels.graphics.tsaplots import plot_acf,plot_pacf\n",
    "\n",
    "plot_acf(p3_new)\n",
    "plot_pacf(p3_new)\n",
    "plt.figure(figsize=(20,4))\n",
    "plt.show()"
   ]
  },
  {
   "cell_type": "code",
   "execution_count": null,
   "metadata": {},
   "outputs": [],
   "source": []
  },
  {
   "cell_type": "code",
   "execution_count": null,
   "metadata": {},
   "outputs": [],
   "source": []
  },
  {
   "cell_type": "code",
   "execution_count": null,
   "metadata": {},
   "outputs": [],
   "source": []
  },
  {
   "cell_type": "code",
   "execution_count": null,
   "metadata": {},
   "outputs": [],
   "source": []
  },
  {
   "cell_type": "code",
   "execution_count": null,
   "metadata": {},
   "outputs": [],
   "source": []
  },
  {
   "cell_type": "code",
   "execution_count": null,
   "metadata": {},
   "outputs": [],
   "source": []
  },
  {
   "cell_type": "code",
   "execution_count": null,
   "metadata": {},
   "outputs": [],
   "source": []
  },
  {
   "cell_type": "code",
   "execution_count": null,
   "metadata": {},
   "outputs": [],
   "source": []
  },
  {
   "cell_type": "code",
   "execution_count": null,
   "metadata": {},
   "outputs": [],
   "source": []
  },
  {
   "cell_type": "code",
   "execution_count": null,
   "metadata": {},
   "outputs": [],
   "source": []
  },
  {
   "cell_type": "code",
   "execution_count": null,
   "metadata": {},
   "outputs": [],
   "source": []
  },
  {
   "cell_type": "code",
   "execution_count": null,
   "metadata": {},
   "outputs": [],
   "source": []
  },
  {
   "cell_type": "markdown",
   "metadata": {},
   "source": [
    "# 다른코드"
   ]
  },
  {
   "cell_type": "code",
   "execution_count": 95,
   "metadata": {},
   "outputs": [
    {
     "name": "stderr",
     "output_type": "stream",
     "text": [
      "C:\\Users\\student\\anaconda3\\lib\\site-packages\\matplotlib\\backends\\backend_agg.py:214: RuntimeWarning: Glyph 8722 missing from current font.\n",
      "  font.set_text(s, 0.0, flags=flags)\n",
      "C:\\Users\\student\\anaconda3\\lib\\site-packages\\matplotlib\\backends\\backend_agg.py:183: RuntimeWarning: Glyph 8722 missing from current font.\n",
      "  font.set_text(s, 0, flags=flags)\n"
     ]
    },
    {
     "data": {
      "image/png": "[encoded data removed]",
      "text/plain": [
       "<Figure size 432x288 with 1 Axes>"
      ]
     },
     "metadata": {
      "needs_background": "light"
     },
     "output_type": "display_data"
    },
    {
     "data": {
      "image/png": "[encoded data removed]",
      "text/plain": [
       "<Figure size 432x288 with 1 Axes>"
      ]
     },
     "metadata": {
      "needs_background": "light"
     },
     "output_type": "display_data"
    }
   ],
   "source": [
    "import matplotlib.pyplot as plt\n",
    "from statsmodels.graphics.tsaplots import plot_acf, plot_pacf\n",
    "\n",
    "plot_acf(p3_new) #ACG가 빠르게 감소 PACF는 어느 시점에서 절단점을 갖는다.\n",
    "plot_pacf(p3_new) #1에서 급격히 하강하므로 p=0,q=1이 적당하다.\n",
    "plt.show()"
   ]
  },
  {
   "cell_type": "code",
   "execution_count": 104,
   "metadata": {},
   "outputs": [
    {
     "name": "stderr",
     "output_type": "stream",
     "text": [
      "C:\\Users\\student\\anaconda3\\lib\\site-packages\\matplotlib\\backends\\backend_agg.py:214: RuntimeWarning: Glyph 8722 missing from current font.\n",
      "  font.set_text(s, 0.0, flags=flags)\n",
      "C:\\Users\\student\\anaconda3\\lib\\site-packages\\matplotlib\\backends\\backend_agg.py:183: RuntimeWarning: Glyph 8722 missing from current font.\n",
      "  font.set_text(s, 0, flags=flags)\n"
     ]
    },
    {
     "data": {
      "image/png": "[encoded data removed]",
      "text/plain": [
       "<Figure size 432x288 with 1 Axes>"
      ]
     },
     "metadata": {
      "needs_background": "light"
     },
     "output_type": "display_data"
    },
    {
     "data": {
      "image/png": "[encoded data removed]",
      "text/plain": [
       "<Figure size 432x288 with 1 Axes>"
      ]
     },
     "metadata": {
      "needs_background": "light"
     },
     "output_type": "display_data"
    },
    {
     "data": {
      "image/png": "[encoded data removed]",
      "text/plain": [
       "<Figure size 432x288 with 1 Axes>"
      ]
     },
     "metadata": {
      "needs_background": "light"
     },
     "output_type": "display_data"
    }
   ],
   "source": [
    "import matplotlib.pyplot as plt\n",
    "import pandas as pd\n",
    "from statsmodels.graphics.tsaplots import plot_acf, plot_pacf\n",
    "\n",
    "diff_1=p3_new.diff(periods=1).iloc[1:]\n",
    "diff_1.plot()\n",
    "\n",
    "\n",
    "#시계열이 정상상태를 보이므로 1차차분으로만으로 충분! \n",
    "#ARIMA(0,1,1)\n",
    "plot_acf(diff_1)\n",
    "plot_pacf(diff_1) \n",
    "plt.show()\n",
    "\n"
   ]
  },
  {
   "cell_type": "code",
   "execution_count": 105,
   "metadata": {},
   "outputs": [
    {
     "name": "stdout",
     "output_type": "stream",
     "text": [
      "                             ARIMA Model Results                              \n",
      "==============================================================================\n",
      "Dep. Variable:                 D.rate   No. Observations:                  163\n",
      "Model:                 ARIMA(0, 1, 1)   Log Likelihood                -558.375\n",
      "Method:                       css-mle   S.D. of innovations              7.323\n",
      "Date:                Thu, 27 Aug 2020   AIC                           1122.750\n",
      "Time:                        15:27:56   BIC                           1132.031\n",
      "Sample:                             1   HQIC                          1126.518\n",
      "                                                                              \n",
      "================================================================================\n",
      "                   coef    std err          z      P>|z|      [0.025      0.975]\n",
      "--------------------------------------------------------------------------------\n",
      "const           -0.0108      0.012     -0.898      0.369      -0.035       0.013\n",
      "ma.L1.D.rate    -1.0000      0.016    -62.183      0.000      -1.032      -0.968\n",
      "                                    Roots                                    \n",
      "=============================================================================\n",
      "                  Real          Imaginary           Modulus         Frequency\n",
      "-----------------------------------------------------------------------------\n",
      "MA.1            1.0000           +0.0000j            1.0000            0.0000\n",
      "-----------------------------------------------------------------------------\n"
     ]
    },
    {
     "name": "stderr",
     "output_type": "stream",
     "text": [
      "C:\\Users\\student\\anaconda3\\lib\\site-packages\\statsmodels\\tsa\\base\\tsa_model.py:216: ValueWarning: A date index has been provided, but it has no associated frequency information and so will be ignored when e.g. forecasting.\n",
      "  warnings.warn('A date index has been provided, but it has no'\n",
      "C:\\Users\\student\\anaconda3\\lib\\site-packages\\statsmodels\\tsa\\base\\tsa_model.py:216: ValueWarning: A date index has been provided, but it has no associated frequency information and so will be ignored when e.g. forecasting.\n",
      "  warnings.warn('A date index has been provided, but it has no'\n"
     ]
    }
   ],
   "source": [
    "from statsmodels.tsa.arima_model import ARIMA\n",
    "\n",
    "model = ARIMA(diff_1, order=(0,1,1))\n",
    "model_fit = model.fit(trend='c',full_output=True, disp=1)\n",
    "print(model_fit.summary())"
   ]
  },
  {
   "cell_type": "code",
   "execution_count": 107,
   "metadata": {},
   "outputs": [
    {
     "name": "stdout",
     "output_type": "stream",
     "text": [
      "(array([-0.91145378]), array([7.32308393]), array([[-15.26443454,  13.44152698]]))\n",
      "[-0.91145378]\n"
     ]
    }
   ],
   "source": [
    "fig = model_fit.forecast(steps = 1)\n",
    "print(fig)\n",
    "print(fig[0])  #예측값 #1185.5038147"
   ]
  },
  {
   "cell_type": "code",
   "execution_count": null,
   "metadata": {},
   "outputs": [],
   "source": []
  }
 ],
 "metadata": {
  "kernelspec": {
   "display_name": "Python 3",
   "language": "python",
   "name": "python3"
  },
  "language_info": {
   "codemirror_mode": {
    "name": "ipython",
    "version": 3
   },
   "file_extension": ".py",
   "mimetype": "text/x-python",
   "name": "python",
   "nbconvert_exporter": "python",
   "pygments_lexer": "ipython3",
   "version": "3.8.5"
  }
 },
 "nbformat": 4,
 "nbformat_minor": 4
}
